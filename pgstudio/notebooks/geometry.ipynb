{
 "cells": [
  {
   "cell_type": "code",
   "execution_count": 1,
   "metadata": {},
   "outputs": [],
   "source": [
    "import sys\n",
    "sys.path.append(\"../../\")\n",
    "from pgstudio.geometry.datastore import Point\n",
    "from pgstudio.geometry.collections import PointList"
   ]
  },
  {
   "cell_type": "markdown",
   "metadata": {},
   "source": [
    "##### Creación."
   ]
  },
  {
   "cell_type": "code",
   "execution_count": 3,
   "metadata": {},
   "outputs": [
    {
     "name": "stdout",
     "output_type": "stream",
     "text": [
      "----- Parámetros -----\n",
      "p.x: 3\n",
      "p.y: 2\n",
      "p.xy: (3, 2)\n",
      "p.xy_ref: (3, 2)\n"
     ]
    }
   ],
   "source": [
    "xy_tuple = (3,2)\n",
    "p = Point(xy_tuple)\n",
    "\n",
    "print(\"----- Parámetros -----\")# Se puede acceder a las coordenadas\n",
    "print(f\"p.x: {p.x}\")\n",
    "print(f\"p.y: {p.y}\")\n",
    "print(f\"p.xy: {p.xy}\")\n",
    "print(f\"p.xy_ref: {p.xy_ref}\")"
   ]
  },
  {
   "cell_type": "code",
   "execution_count": null,
   "metadata": {},
   "outputs": [],
   "source": [
    "pts_1 = [\n",
    "    (2,7),\n",
    "    (9,3),\n",
    "    (1,5)\n",
    "]\n",
    "pts_2 = [\n",
    "    Point(xy=(1,5)),\n",
    "    Point(xy=(4,3)),\n",
    "    Point(xy=(7,2))\n",
    "]\n",
    "pts_3 = [\n",
    "    Point(xy=(31,23)),\n",
    "    (9,1),\n",
    "    [4,2]\n",
    "]\n",
    "\n",
    "#pts = datastore.PointList.from_list_of_tuples(pts_1)\n",
    "pts = PointList(pts_2)\n",
    "p: Point = pts[0]\n",
    "p.translation((1,2))\n",
    "p\n",
    "box = Box(box=[100,150,200,500])"
   ]
  },
  {
   "cell_type": "code",
   "execution_count": null,
   "metadata": {},
   "outputs": [],
   "source": []
  },
  {
   "cell_type": "code",
   "execution_count": null,
   "metadata": {},
   "outputs": [],
   "source": [
    "p.xy"
   ]
  }
 ],
 "metadata": {
  "kernelspec": {
   "display_name": "emolgapp",
   "language": "python",
   "name": "python3"
  },
  "language_info": {
   "codemirror_mode": {
    "name": "ipython",
    "version": 3
   },
   "file_extension": ".py",
   "mimetype": "text/x-python",
   "name": "python",
   "nbconvert_exporter": "python",
   "pygments_lexer": "ipython3",
   "version": "3.10.12"
  },
  "orig_nbformat": 4
 },
 "nbformat": 4,
 "nbformat_minor": 2
}
